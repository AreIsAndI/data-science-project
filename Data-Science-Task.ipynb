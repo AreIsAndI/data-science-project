{
 "cells": [
  {
   "cell_type": "code",
   "execution_count": 1,
   "id": "d0d9f643",
   "metadata": {
    "id": "d0d9f643"
   },
   "outputs": [],
   "source": [
    "import pandas as pd\n",
    "import numpy as np\n",
    "pd.set_option('display.max_columns', None)"
   ]
  },
  {
   "cell_type": "code",
   "execution_count": 2,
   "id": "ab700e7c",
   "metadata": {
    "colab": {
     "base_uri": "https://localhost:8080/",
     "height": 426
    },
    "id": "ab700e7c",
    "outputId": "4266a96f-8736-4212-bb3c-34bf6e88687d"
   },
   "outputs": [
    {
     "data": {
      "text/html": [
       "<div>\n",
       "<style scoped>\n",
       "    .dataframe tbody tr th:only-of-type {\n",
       "        vertical-align: middle;\n",
       "    }\n",
       "\n",
       "    .dataframe tbody tr th {\n",
       "        vertical-align: top;\n",
       "    }\n",
       "\n",
       "    .dataframe thead th {\n",
       "        text-align: right;\n",
       "    }\n",
       "</style>\n",
       "<table border=\"1\" class=\"dataframe\">\n",
       "  <thead>\n",
       "    <tr style=\"text-align: right;\">\n",
       "      <th></th>\n",
       "      <th>Employee_Name</th>\n",
       "      <th>EmpID</th>\n",
       "      <th>MarriedID</th>\n",
       "      <th>MaritalStatusID</th>\n",
       "      <th>GenderID</th>\n",
       "      <th>EmpStatusID</th>\n",
       "      <th>DeptID</th>\n",
       "      <th>PerfScoreID</th>\n",
       "      <th>FromDiversityJobFairID</th>\n",
       "      <th>Salary</th>\n",
       "      <th>Termd</th>\n",
       "      <th>PositionID</th>\n",
       "      <th>Position</th>\n",
       "      <th>State</th>\n",
       "      <th>Zip</th>\n",
       "      <th>DOB</th>\n",
       "      <th>Sex</th>\n",
       "      <th>MaritalDesc</th>\n",
       "      <th>CitizenDesc</th>\n",
       "      <th>HispanicLatino</th>\n",
       "      <th>RaceDesc</th>\n",
       "      <th>DateofHire</th>\n",
       "      <th>DateofTermination</th>\n",
       "      <th>TermReason</th>\n",
       "      <th>EmploymentStatus</th>\n",
       "      <th>Department</th>\n",
       "      <th>ManagerName</th>\n",
       "      <th>ManagerID</th>\n",
       "      <th>RecruitmentSource</th>\n",
       "      <th>PerformanceScore</th>\n",
       "      <th>EngagementSurvey</th>\n",
       "      <th>EmpSatisfaction</th>\n",
       "      <th>SpecialProjectsCount</th>\n",
       "      <th>LastPerformanceReview_Date</th>\n",
       "      <th>DaysLateLast30</th>\n",
       "      <th>Absences</th>\n",
       "    </tr>\n",
       "  </thead>\n",
       "  <tbody>\n",
       "    <tr>\n",
       "      <th>0</th>\n",
       "      <td>Adinolfi, Wilson  K</td>\n",
       "      <td>10026</td>\n",
       "      <td>0</td>\n",
       "      <td>0</td>\n",
       "      <td>1</td>\n",
       "      <td>1</td>\n",
       "      <td>5</td>\n",
       "      <td>4</td>\n",
       "      <td>0</td>\n",
       "      <td>62506</td>\n",
       "      <td>0</td>\n",
       "      <td>19</td>\n",
       "      <td>Production Technician I</td>\n",
       "      <td>MA</td>\n",
       "      <td>1960</td>\n",
       "      <td>07/10/83</td>\n",
       "      <td>M</td>\n",
       "      <td>Single</td>\n",
       "      <td>US Citizen</td>\n",
       "      <td>No</td>\n",
       "      <td>White</td>\n",
       "      <td>7/5/2011</td>\n",
       "      <td>NaN</td>\n",
       "      <td>N/A-StillEmployed</td>\n",
       "      <td>Active</td>\n",
       "      <td>Production</td>\n",
       "      <td>Michael Albert</td>\n",
       "      <td>22.0</td>\n",
       "      <td>LinkedIn</td>\n",
       "      <td>Exceeds</td>\n",
       "      <td>4.60</td>\n",
       "      <td>5</td>\n",
       "      <td>0</td>\n",
       "      <td>1/17/2019</td>\n",
       "      <td>0</td>\n",
       "      <td>1</td>\n",
       "    </tr>\n",
       "    <tr>\n",
       "      <th>1</th>\n",
       "      <td>Ait Sidi, Karthikeyan</td>\n",
       "      <td>10084</td>\n",
       "      <td>1</td>\n",
       "      <td>1</td>\n",
       "      <td>1</td>\n",
       "      <td>5</td>\n",
       "      <td>3</td>\n",
       "      <td>3</td>\n",
       "      <td>0</td>\n",
       "      <td>104437</td>\n",
       "      <td>1</td>\n",
       "      <td>27</td>\n",
       "      <td>Sr. DBA</td>\n",
       "      <td>MA</td>\n",
       "      <td>2148</td>\n",
       "      <td>05/05/75</td>\n",
       "      <td>M</td>\n",
       "      <td>Married</td>\n",
       "      <td>US Citizen</td>\n",
       "      <td>No</td>\n",
       "      <td>White</td>\n",
       "      <td>3/30/2015</td>\n",
       "      <td>6/16/2016</td>\n",
       "      <td>career change</td>\n",
       "      <td>Voluntarily Terminated</td>\n",
       "      <td>IT/IS</td>\n",
       "      <td>Simon Roup</td>\n",
       "      <td>4.0</td>\n",
       "      <td>Indeed</td>\n",
       "      <td>Fully Meets</td>\n",
       "      <td>4.96</td>\n",
       "      <td>3</td>\n",
       "      <td>6</td>\n",
       "      <td>2/24/2016</td>\n",
       "      <td>0</td>\n",
       "      <td>17</td>\n",
       "    </tr>\n",
       "    <tr>\n",
       "      <th>2</th>\n",
       "      <td>Akinkuolie, Sarah</td>\n",
       "      <td>10196</td>\n",
       "      <td>1</td>\n",
       "      <td>1</td>\n",
       "      <td>0</td>\n",
       "      <td>5</td>\n",
       "      <td>5</td>\n",
       "      <td>3</td>\n",
       "      <td>0</td>\n",
       "      <td>64955</td>\n",
       "      <td>1</td>\n",
       "      <td>20</td>\n",
       "      <td>Production Technician II</td>\n",
       "      <td>MA</td>\n",
       "      <td>1810</td>\n",
       "      <td>09/19/88</td>\n",
       "      <td>F</td>\n",
       "      <td>Married</td>\n",
       "      <td>US Citizen</td>\n",
       "      <td>No</td>\n",
       "      <td>White</td>\n",
       "      <td>7/5/2011</td>\n",
       "      <td>9/24/2012</td>\n",
       "      <td>hours</td>\n",
       "      <td>Voluntarily Terminated</td>\n",
       "      <td>Production</td>\n",
       "      <td>Kissy Sullivan</td>\n",
       "      <td>20.0</td>\n",
       "      <td>LinkedIn</td>\n",
       "      <td>Fully Meets</td>\n",
       "      <td>3.02</td>\n",
       "      <td>3</td>\n",
       "      <td>0</td>\n",
       "      <td>5/15/2012</td>\n",
       "      <td>0</td>\n",
       "      <td>3</td>\n",
       "    </tr>\n",
       "    <tr>\n",
       "      <th>3</th>\n",
       "      <td>Alagbe,Trina</td>\n",
       "      <td>10088</td>\n",
       "      <td>1</td>\n",
       "      <td>1</td>\n",
       "      <td>0</td>\n",
       "      <td>1</td>\n",
       "      <td>5</td>\n",
       "      <td>3</td>\n",
       "      <td>0</td>\n",
       "      <td>64991</td>\n",
       "      <td>0</td>\n",
       "      <td>19</td>\n",
       "      <td>Production Technician I</td>\n",
       "      <td>MA</td>\n",
       "      <td>1886</td>\n",
       "      <td>09/27/88</td>\n",
       "      <td>F</td>\n",
       "      <td>Married</td>\n",
       "      <td>US Citizen</td>\n",
       "      <td>No</td>\n",
       "      <td>White</td>\n",
       "      <td>1/7/2008</td>\n",
       "      <td>NaN</td>\n",
       "      <td>N/A-StillEmployed</td>\n",
       "      <td>Active</td>\n",
       "      <td>Production</td>\n",
       "      <td>Elijiah Gray</td>\n",
       "      <td>16.0</td>\n",
       "      <td>Indeed</td>\n",
       "      <td>Fully Meets</td>\n",
       "      <td>4.84</td>\n",
       "      <td>5</td>\n",
       "      <td>0</td>\n",
       "      <td>1/3/2019</td>\n",
       "      <td>0</td>\n",
       "      <td>15</td>\n",
       "    </tr>\n",
       "    <tr>\n",
       "      <th>4</th>\n",
       "      <td>Anderson, Carol</td>\n",
       "      <td>10069</td>\n",
       "      <td>0</td>\n",
       "      <td>2</td>\n",
       "      <td>0</td>\n",
       "      <td>5</td>\n",
       "      <td>5</td>\n",
       "      <td>3</td>\n",
       "      <td>0</td>\n",
       "      <td>50825</td>\n",
       "      <td>1</td>\n",
       "      <td>19</td>\n",
       "      <td>Production Technician I</td>\n",
       "      <td>MA</td>\n",
       "      <td>2169</td>\n",
       "      <td>09/08/89</td>\n",
       "      <td>F</td>\n",
       "      <td>Divorced</td>\n",
       "      <td>US Citizen</td>\n",
       "      <td>No</td>\n",
       "      <td>White</td>\n",
       "      <td>7/11/2011</td>\n",
       "      <td>9/6/2016</td>\n",
       "      <td>return to school</td>\n",
       "      <td>Voluntarily Terminated</td>\n",
       "      <td>Production</td>\n",
       "      <td>Webster Butler</td>\n",
       "      <td>39.0</td>\n",
       "      <td>Google Search</td>\n",
       "      <td>Fully Meets</td>\n",
       "      <td>5.00</td>\n",
       "      <td>4</td>\n",
       "      <td>0</td>\n",
       "      <td>2/1/2016</td>\n",
       "      <td>0</td>\n",
       "      <td>2</td>\n",
       "    </tr>\n",
       "  </tbody>\n",
       "</table>\n",
       "</div>"
      ],
      "text/plain": [
       "              Employee_Name  EmpID  MarriedID  MaritalStatusID  GenderID  \\\n",
       "0       Adinolfi, Wilson  K  10026          0                0         1   \n",
       "1  Ait Sidi, Karthikeyan     10084          1                1         1   \n",
       "2         Akinkuolie, Sarah  10196          1                1         0   \n",
       "3              Alagbe,Trina  10088          1                1         0   \n",
       "4          Anderson, Carol   10069          0                2         0   \n",
       "\n",
       "   EmpStatusID  DeptID  PerfScoreID  FromDiversityJobFairID  Salary  Termd  \\\n",
       "0            1       5            4                       0   62506      0   \n",
       "1            5       3            3                       0  104437      1   \n",
       "2            5       5            3                       0   64955      1   \n",
       "3            1       5            3                       0   64991      0   \n",
       "4            5       5            3                       0   50825      1   \n",
       "\n",
       "   PositionID                  Position State   Zip       DOB Sex MaritalDesc  \\\n",
       "0          19   Production Technician I    MA  1960  07/10/83  M       Single   \n",
       "1          27                   Sr. DBA    MA  2148  05/05/75  M      Married   \n",
       "2          20  Production Technician II    MA  1810  09/19/88   F     Married   \n",
       "3          19   Production Technician I    MA  1886  09/27/88   F     Married   \n",
       "4          19   Production Technician I    MA  2169  09/08/89   F    Divorced   \n",
       "\n",
       "  CitizenDesc HispanicLatino RaceDesc DateofHire DateofTermination  \\\n",
       "0  US Citizen             No    White   7/5/2011               NaN   \n",
       "1  US Citizen             No    White  3/30/2015         6/16/2016   \n",
       "2  US Citizen             No    White   7/5/2011         9/24/2012   \n",
       "3  US Citizen             No    White   1/7/2008               NaN   \n",
       "4  US Citizen             No    White  7/11/2011          9/6/2016   \n",
       "\n",
       "          TermReason        EmploymentStatus         Department  \\\n",
       "0  N/A-StillEmployed                  Active  Production          \n",
       "1      career change  Voluntarily Terminated              IT/IS   \n",
       "2              hours  Voluntarily Terminated  Production          \n",
       "3  N/A-StillEmployed                  Active  Production          \n",
       "4   return to school  Voluntarily Terminated  Production          \n",
       "\n",
       "      ManagerName  ManagerID RecruitmentSource PerformanceScore  \\\n",
       "0  Michael Albert       22.0          LinkedIn          Exceeds   \n",
       "1      Simon Roup        4.0            Indeed      Fully Meets   \n",
       "2  Kissy Sullivan       20.0          LinkedIn      Fully Meets   \n",
       "3    Elijiah Gray       16.0            Indeed      Fully Meets   \n",
       "4  Webster Butler       39.0     Google Search      Fully Meets   \n",
       "\n",
       "   EngagementSurvey  EmpSatisfaction  SpecialProjectsCount  \\\n",
       "0              4.60                5                     0   \n",
       "1              4.96                3                     6   \n",
       "2              3.02                3                     0   \n",
       "3              4.84                5                     0   \n",
       "4              5.00                4                     0   \n",
       "\n",
       "  LastPerformanceReview_Date  DaysLateLast30  Absences  \n",
       "0                  1/17/2019               0         1  \n",
       "1                  2/24/2016               0        17  \n",
       "2                  5/15/2012               0         3  \n",
       "3                   1/3/2019               0        15  \n",
       "4                   2/1/2016               0         2  "
      ]
     },
     "execution_count": 2,
     "metadata": {},
     "output_type": "execute_result"
    }
   ],
   "source": [
    "data = pd.read_csv('https://raw.githubusercontent.com/Rietaros/kampus_merdeka/main/HRDataset_v14.csv')\n",
    "data.head()"
   ]
  },
  {
   "cell_type": "code",
   "execution_count": 3,
   "id": "5c4456cb",
   "metadata": {},
   "outputs": [],
   "source": [
    "# Make a copy the original data\n",
    "data_ori = data.copy()"
   ]
  },
  {
   "cell_type": "markdown",
   "id": "155fada9",
   "metadata": {
    "id": "155fada9"
   },
   "source": [
    "# Pandas Question"
   ]
  },
  {
   "cell_type": "markdown",
   "id": "fyejmkxU6ZN5",
   "metadata": {
    "id": "fyejmkxU6ZN5"
   },
   "source": [
    "1. What is the minimum, median, max, and average salary for employee by Married Description and Gender.\n",
    "Hints: use agg function<br>\n",
    "Expected Output as below<br>\n",
    "(5 Points)"
   ]
  },
  {
   "cell_type": "code",
   "execution_count": 4,
   "id": "f0db3529",
   "metadata": {
    "colab": {
     "base_uri": "https://localhost:8080/",
     "height": 394
    },
    "id": "f0db3529",
    "outputId": "1af38e71-6a8f-4bd2-dc3b-96d3f7aae6d4"
   },
   "outputs": [
    {
     "data": {
      "text/html": [
       "<div>\n",
       "<style scoped>\n",
       "    .dataframe tbody tr th:only-of-type {\n",
       "        vertical-align: middle;\n",
       "    }\n",
       "\n",
       "    .dataframe tbody tr th {\n",
       "        vertical-align: top;\n",
       "    }\n",
       "\n",
       "    .dataframe thead th {\n",
       "        text-align: right;\n",
       "    }\n",
       "</style>\n",
       "<table border=\"1\" class=\"dataframe\">\n",
       "  <thead>\n",
       "    <tr style=\"text-align: right;\">\n",
       "      <th></th>\n",
       "      <th></th>\n",
       "      <th>min_salary</th>\n",
       "      <th>median_salary</th>\n",
       "      <th>max_salary</th>\n",
       "      <th>average_salary</th>\n",
       "    </tr>\n",
       "    <tr>\n",
       "      <th>MaritalDesc</th>\n",
       "      <th>Sex</th>\n",
       "      <th></th>\n",
       "      <th></th>\n",
       "      <th></th>\n",
       "      <th></th>\n",
       "    </tr>\n",
       "  </thead>\n",
       "  <tbody>\n",
       "    <tr>\n",
       "      <th rowspan=\"2\" valign=\"top\">Divorced</th>\n",
       "      <th>F</th>\n",
       "      <td>45069</td>\n",
       "      <td>59393.0</td>\n",
       "      <td>68182</td>\n",
       "      <td>57345.500000</td>\n",
       "    </tr>\n",
       "    <tr>\n",
       "      <th>M</th>\n",
       "      <td>45115</td>\n",
       "      <td>63738.5</td>\n",
       "      <td>148999</td>\n",
       "      <td>72520.857143</td>\n",
       "    </tr>\n",
       "    <tr>\n",
       "      <th rowspan=\"2\" valign=\"top\">Married</th>\n",
       "      <th>F</th>\n",
       "      <td>45433</td>\n",
       "      <td>62662.0</td>\n",
       "      <td>250000</td>\n",
       "      <td>69638.986111</td>\n",
       "    </tr>\n",
       "    <tr>\n",
       "      <th>M</th>\n",
       "      <td>46120</td>\n",
       "      <td>63370.5</td>\n",
       "      <td>157000</td>\n",
       "      <td>70089.038462</td>\n",
       "    </tr>\n",
       "    <tr>\n",
       "      <th rowspan=\"2\" valign=\"top\">Separated</th>\n",
       "      <th>F</th>\n",
       "      <td>52984</td>\n",
       "      <td>60627.0</td>\n",
       "      <td>66149</td>\n",
       "      <td>60658.888889</td>\n",
       "    </tr>\n",
       "    <tr>\n",
       "      <th>M</th>\n",
       "      <td>64397</td>\n",
       "      <td>70468.0</td>\n",
       "      <td>74417</td>\n",
       "      <td>69760.666667</td>\n",
       "    </tr>\n",
       "    <tr>\n",
       "      <th rowspan=\"2\" valign=\"top\">Single</th>\n",
       "      <th>F</th>\n",
       "      <td>45395</td>\n",
       "      <td>62068.0</td>\n",
       "      <td>220450</td>\n",
       "      <td>68988.266667</td>\n",
       "    </tr>\n",
       "    <tr>\n",
       "      <th>M</th>\n",
       "      <td>46428</td>\n",
       "      <td>63055.5</td>\n",
       "      <td>178000</td>\n",
       "      <td>71340.048387</td>\n",
       "    </tr>\n",
       "    <tr>\n",
       "      <th rowspan=\"2\" valign=\"top\">Widowed</th>\n",
       "      <th>F</th>\n",
       "      <td>45046</td>\n",
       "      <td>63303.5</td>\n",
       "      <td>107226</td>\n",
       "      <td>69719.750000</td>\n",
       "    </tr>\n",
       "    <tr>\n",
       "      <th>M</th>\n",
       "      <td>52788</td>\n",
       "      <td>61359.0</td>\n",
       "      <td>67176</td>\n",
       "      <td>60670.500000</td>\n",
       "    </tr>\n",
       "  </tbody>\n",
       "</table>\n",
       "</div>"
      ],
      "text/plain": [
       "                 min_salary  median_salary  max_salary  average_salary\n",
       "MaritalDesc Sex                                                       \n",
       "Divorced    F         45069        59393.0       68182    57345.500000\n",
       "            M         45115        63738.5      148999    72520.857143\n",
       "Married     F         45433        62662.0      250000    69638.986111\n",
       "            M         46120        63370.5      157000    70089.038462\n",
       "Separated   F         52984        60627.0       66149    60658.888889\n",
       "            M         64397        70468.0       74417    69760.666667\n",
       "Single      F         45395        62068.0      220450    68988.266667\n",
       "            M         46428        63055.5      178000    71340.048387\n",
       "Widowed     F         45046        63303.5      107226    69719.750000\n",
       "            M         52788        61359.0       67176    60670.500000"
      ]
     },
     "execution_count": 4,
     "metadata": {},
     "output_type": "execute_result"
    }
   ],
   "source": [
    "# 1. What is the minimum, median, max, and average salary for employee by Married Description and Gender\n",
    "# Hints: use agg function\n",
    "# Expected Output as below\n",
    "# (5 Points)\n",
    "\n",
    "temp1 = data.groupby(['MaritalDesc', 'Sex'])['Salary'].agg(['min', 'median', 'max', 'mean'])\n",
    "temp1.rename(columns = {\n",
    "    'min':'min_salary',\n",
    "    'median': 'median_salary',\n",
    "    'max': 'max_salary',\n",
    "    'mean': 'average_salary'\n",
    "                       }, inplace = True)\n",
    "temp1\n",
    "\n",
    "# references\n",
    "# 1: https://pandas.pydata.org/docs/reference/api/pandas.DataFrame.groupby.html\n",
    "# 2: https://www.tutorialspoint.com/how-to-combine-groupby-and-multiple-aggregate-functions-in-pandas"
   ]
  },
  {
   "cell_type": "code",
   "execution_count": 5,
   "id": "ab6c4910",
   "metadata": {},
   "outputs": [
    {
     "data": {
      "text/html": [
       "<div>\n",
       "<style scoped>\n",
       "    .dataframe tbody tr th:only-of-type {\n",
       "        vertical-align: middle;\n",
       "    }\n",
       "\n",
       "    .dataframe tbody tr th {\n",
       "        vertical-align: top;\n",
       "    }\n",
       "\n",
       "    .dataframe thead th {\n",
       "        text-align: right;\n",
       "    }\n",
       "</style>\n",
       "<table border=\"1\" class=\"dataframe\">\n",
       "  <thead>\n",
       "    <tr style=\"text-align: right;\">\n",
       "      <th></th>\n",
       "      <th></th>\n",
       "      <th>min_salary</th>\n",
       "      <th>median_salary</th>\n",
       "      <th>max_salary</th>\n",
       "      <th>average_salary</th>\n",
       "    </tr>\n",
       "    <tr>\n",
       "      <th>MaritalDesc</th>\n",
       "      <th>Sex</th>\n",
       "      <th></th>\n",
       "      <th></th>\n",
       "      <th></th>\n",
       "      <th></th>\n",
       "    </tr>\n",
       "  </thead>\n",
       "  <tbody>\n",
       "    <tr>\n",
       "      <th rowspan=\"2\" valign=\"top\">Divorced</th>\n",
       "      <th>F</th>\n",
       "      <td>45069</td>\n",
       "      <td>59393.0</td>\n",
       "      <td>68182</td>\n",
       "      <td>57345.500000</td>\n",
       "    </tr>\n",
       "    <tr>\n",
       "      <th>M</th>\n",
       "      <td>45115</td>\n",
       "      <td>63738.5</td>\n",
       "      <td>148999</td>\n",
       "      <td>72520.857143</td>\n",
       "    </tr>\n",
       "    <tr>\n",
       "      <th rowspan=\"2\" valign=\"top\">Married</th>\n",
       "      <th>F</th>\n",
       "      <td>45433</td>\n",
       "      <td>62662.0</td>\n",
       "      <td>250000</td>\n",
       "      <td>69638.986111</td>\n",
       "    </tr>\n",
       "    <tr>\n",
       "      <th>M</th>\n",
       "      <td>46120</td>\n",
       "      <td>63370.5</td>\n",
       "      <td>157000</td>\n",
       "      <td>70089.038462</td>\n",
       "    </tr>\n",
       "    <tr>\n",
       "      <th rowspan=\"2\" valign=\"top\">Separated</th>\n",
       "      <th>F</th>\n",
       "      <td>52984</td>\n",
       "      <td>60627.0</td>\n",
       "      <td>66149</td>\n",
       "      <td>60658.888889</td>\n",
       "    </tr>\n",
       "    <tr>\n",
       "      <th>M</th>\n",
       "      <td>64397</td>\n",
       "      <td>70468.0</td>\n",
       "      <td>74417</td>\n",
       "      <td>69760.666667</td>\n",
       "    </tr>\n",
       "    <tr>\n",
       "      <th rowspan=\"2\" valign=\"top\">Single</th>\n",
       "      <th>F</th>\n",
       "      <td>45395</td>\n",
       "      <td>62068.0</td>\n",
       "      <td>220450</td>\n",
       "      <td>68988.266667</td>\n",
       "    </tr>\n",
       "    <tr>\n",
       "      <th>M</th>\n",
       "      <td>46428</td>\n",
       "      <td>63055.5</td>\n",
       "      <td>178000</td>\n",
       "      <td>71340.048387</td>\n",
       "    </tr>\n",
       "    <tr>\n",
       "      <th rowspan=\"2\" valign=\"top\">Widowed</th>\n",
       "      <th>F</th>\n",
       "      <td>45046</td>\n",
       "      <td>63303.5</td>\n",
       "      <td>107226</td>\n",
       "      <td>69719.750000</td>\n",
       "    </tr>\n",
       "    <tr>\n",
       "      <th>M</th>\n",
       "      <td>52788</td>\n",
       "      <td>61359.0</td>\n",
       "      <td>67176</td>\n",
       "      <td>60670.500000</td>\n",
       "    </tr>\n",
       "  </tbody>\n",
       "</table>\n",
       "</div>"
      ],
      "text/plain": [
       "                 min_salary  median_salary  max_salary  average_salary\n",
       "MaritalDesc Sex                                                       \n",
       "Divorced    F         45069        59393.0       68182    57345.500000\n",
       "            M         45115        63738.5      148999    72520.857143\n",
       "Married     F         45433        62662.0      250000    69638.986111\n",
       "            M         46120        63370.5      157000    70089.038462\n",
       "Separated   F         52984        60627.0       66149    60658.888889\n",
       "            M         64397        70468.0       74417    69760.666667\n",
       "Single      F         45395        62068.0      220450    68988.266667\n",
       "            M         46428        63055.5      178000    71340.048387\n",
       "Widowed     F         45046        63303.5      107226    69719.750000\n",
       "            M         52788        61359.0       67176    60670.500000"
      ]
     },
     "execution_count": 5,
     "metadata": {},
     "output_type": "execute_result"
    }
   ],
   "source": [
    "# other answer\n",
    "temp1b = data.groupby(['MaritalDesc', 'Sex'])['Salary'].agg(min_salary = 'min',\n",
    "                                                            median_salary = 'median',\n",
    "                                                            max_salary = 'max',\n",
    "                                                            average_salary = 'mean')\n",
    "temp1b\n",
    "\n",
    "# references:\n",
    "# 1: https://stackoverflow.com/questions/19078325/naming-returned-columns-in-pandas-aggregate-function"
   ]
  },
  {
   "cell_type": "markdown",
   "id": "Fmp-6woR6f-_",
   "metadata": {
    "id": "Fmp-6woR6f-_"
   },
   "source": [
    "2. What is top-5 reason of termination?<br>\n",
    "Expected Output as below<br>\n",
    "(5 Points)"
   ]
  },
  {
   "cell_type": "code",
   "execution_count": 6,
   "id": "9e347cd8",
   "metadata": {
    "colab": {
     "base_uri": "https://localhost:8080/",
     "height": 237
    },
    "id": "9e347cd8",
    "outputId": "c12da216-cca2-48e0-85f8-1fbffa171e0a"
   },
   "outputs": [
    {
     "data": {
      "text/html": [
       "<div>\n",
       "<style scoped>\n",
       "    .dataframe tbody tr th:only-of-type {\n",
       "        vertical-align: middle;\n",
       "    }\n",
       "\n",
       "    .dataframe tbody tr th {\n",
       "        vertical-align: top;\n",
       "    }\n",
       "\n",
       "    .dataframe thead th {\n",
       "        text-align: right;\n",
       "    }\n",
       "</style>\n",
       "<table border=\"1\" class=\"dataframe\">\n",
       "  <thead>\n",
       "    <tr style=\"text-align: right;\">\n",
       "      <th></th>\n",
       "      <th>total_termination</th>\n",
       "    </tr>\n",
       "    <tr>\n",
       "      <th>TermReason</th>\n",
       "      <th></th>\n",
       "    </tr>\n",
       "  </thead>\n",
       "  <tbody>\n",
       "    <tr>\n",
       "      <th>N/A-StillEmployed</th>\n",
       "      <td>207</td>\n",
       "    </tr>\n",
       "    <tr>\n",
       "      <th>Another position</th>\n",
       "      <td>20</td>\n",
       "    </tr>\n",
       "    <tr>\n",
       "      <th>unhappy</th>\n",
       "      <td>14</td>\n",
       "    </tr>\n",
       "    <tr>\n",
       "      <th>more money</th>\n",
       "      <td>11</td>\n",
       "    </tr>\n",
       "    <tr>\n",
       "      <th>career change</th>\n",
       "      <td>9</td>\n",
       "    </tr>\n",
       "  </tbody>\n",
       "</table>\n",
       "</div>"
      ],
      "text/plain": [
       "                   total_termination\n",
       "TermReason                          \n",
       "N/A-StillEmployed                207\n",
       "Another position                  20\n",
       "unhappy                           14\n",
       "more money                        11\n",
       "career change                      9"
      ]
     },
     "execution_count": 6,
     "metadata": {},
     "output_type": "execute_result"
    }
   ],
   "source": [
    "#code here\n",
    "temp2 = data.groupby('TermReason')['EmploymentStatus']\n",
    "temp2 = temp2.agg(total_termination = 'count')\n",
    "temp2 = temp2.sort_values(by = 'total_termination',\n",
    "                          ascending = False)\n",
    "pd.DataFrame(temp2)\n",
    "temp2.head()"
   ]
  },
  {
   "cell_type": "markdown",
   "id": "soP3eFxu6pcl",
   "metadata": {
    "id": "soP3eFxu6pcl"
   },
   "source": [
    "3. What is the highest number of employee by Recruitment Source that 'Exceeds' the Performance Score?\n",
    "Hints: Use filter for Performance Score first. Don't forget to sort_values.<br>\n",
    "Expected Output as below<br>\n",
    "(5 Points)"
   ]
  },
  {
   "cell_type": "code",
   "execution_count": 7,
   "id": "b9fe7c35",
   "metadata": {
    "colab": {
     "base_uri": "https://localhost:8080/",
     "height": 300
    },
    "id": "b9fe7c35",
    "outputId": "4cf8e20d-aa5a-4029-97c7-b087d32f3da9"
   },
   "outputs": [
    {
     "data": {
      "text/html": [
       "<div>\n",
       "<style scoped>\n",
       "    .dataframe tbody tr th:only-of-type {\n",
       "        vertical-align: middle;\n",
       "    }\n",
       "\n",
       "    .dataframe tbody tr th {\n",
       "        vertical-align: top;\n",
       "    }\n",
       "\n",
       "    .dataframe thead th {\n",
       "        text-align: right;\n",
       "    }\n",
       "</style>\n",
       "<table border=\"1\" class=\"dataframe\">\n",
       "  <thead>\n",
       "    <tr style=\"text-align: right;\">\n",
       "      <th></th>\n",
       "      <th>total_recruit</th>\n",
       "    </tr>\n",
       "    <tr>\n",
       "      <th>RecruitmentSource</th>\n",
       "      <th></th>\n",
       "    </tr>\n",
       "  </thead>\n",
       "  <tbody>\n",
       "    <tr>\n",
       "      <th>Indeed</th>\n",
       "      <td>12</td>\n",
       "    </tr>\n",
       "    <tr>\n",
       "      <th>LinkedIn</th>\n",
       "      <td>9</td>\n",
       "    </tr>\n",
       "    <tr>\n",
       "      <th>Diversity Job Fair</th>\n",
       "      <td>6</td>\n",
       "    </tr>\n",
       "    <tr>\n",
       "      <th>Employee Referral</th>\n",
       "      <td>5</td>\n",
       "    </tr>\n",
       "    <tr>\n",
       "      <th>CareerBuilder</th>\n",
       "      <td>2</td>\n",
       "    </tr>\n",
       "    <tr>\n",
       "      <th>Google Search</th>\n",
       "      <td>2</td>\n",
       "    </tr>\n",
       "    <tr>\n",
       "      <th>Website</th>\n",
       "      <td>1</td>\n",
       "    </tr>\n",
       "  </tbody>\n",
       "</table>\n",
       "</div>"
      ],
      "text/plain": [
       "                    total_recruit\n",
       "RecruitmentSource                \n",
       "Indeed                         12\n",
       "LinkedIn                        9\n",
       "Diversity Job Fair              6\n",
       "Employee Referral               5\n",
       "CareerBuilder                   2\n",
       "Google Search                   2\n",
       "Website                         1"
      ]
     },
     "execution_count": 7,
     "metadata": {},
     "output_type": "execute_result"
    }
   ],
   "source": [
    "#code here\n",
    "temp3 = data[data['PerformanceScore'] == 'Exceeds']\n",
    "temp3 = temp3.groupby('RecruitmentSource')['PerformanceScore'].agg(total_recruit = 'count')\n",
    "temp3 = temp3.sort_values(by = 'total_recruit',\n",
    "                          ascending = False)\n",
    "temp3"
   ]
  },
  {
   "cell_type": "markdown",
   "id": "aY_e-YSd6wur",
   "metadata": {
    "id": "aY_e-YSd6wur"
   },
   "source": [
    "4. How many managers in each department?\n",
    "Hints: use nunique() as aggregation function.<br>\n",
    "Expected Output as below.<br>\n",
    "(5 Points)"
   ]
  },
  {
   "cell_type": "code",
   "execution_count": 8,
   "id": "3c705082",
   "metadata": {
    "colab": {
     "base_uri": "https://localhost:8080/",
     "height": 269
    },
    "id": "3c705082",
    "outputId": "258e832c-07ec-40f8-dbc8-0a7130961d9a"
   },
   "outputs": [
    {
     "data": {
      "text/html": [
       "<div>\n",
       "<style scoped>\n",
       "    .dataframe tbody tr th:only-of-type {\n",
       "        vertical-align: middle;\n",
       "    }\n",
       "\n",
       "    .dataframe tbody tr th {\n",
       "        vertical-align: top;\n",
       "    }\n",
       "\n",
       "    .dataframe thead th {\n",
       "        text-align: right;\n",
       "    }\n",
       "</style>\n",
       "<table border=\"1\" class=\"dataframe\">\n",
       "  <thead>\n",
       "    <tr style=\"text-align: right;\">\n",
       "      <th></th>\n",
       "      <th>ManagerName</th>\n",
       "    </tr>\n",
       "    <tr>\n",
       "      <th>Department</th>\n",
       "      <th></th>\n",
       "    </tr>\n",
       "  </thead>\n",
       "  <tbody>\n",
       "    <tr>\n",
       "      <th>Admin Offices</th>\n",
       "      <td>3</td>\n",
       "    </tr>\n",
       "    <tr>\n",
       "      <th>Executive Office</th>\n",
       "      <td>1</td>\n",
       "    </tr>\n",
       "    <tr>\n",
       "      <th>IT/IS</th>\n",
       "      <td>6</td>\n",
       "    </tr>\n",
       "    <tr>\n",
       "      <th>Production</th>\n",
       "      <td>10</td>\n",
       "    </tr>\n",
       "    <tr>\n",
       "      <th>Sales</th>\n",
       "      <td>4</td>\n",
       "    </tr>\n",
       "    <tr>\n",
       "      <th>Software Engineering</th>\n",
       "      <td>3</td>\n",
       "    </tr>\n",
       "  </tbody>\n",
       "</table>\n",
       "</div>"
      ],
      "text/plain": [
       "                      ManagerName\n",
       "Department                       \n",
       "Admin Offices                   3\n",
       "Executive Office                1\n",
       "IT/IS                           6\n",
       "Production                     10\n",
       "Sales                           4\n",
       "Software Engineering            3"
      ]
     },
     "execution_count": 8,
     "metadata": {},
     "output_type": "execute_result"
    }
   ],
   "source": [
    "#code here\n",
    "temp4 = data.groupby('Department')['ManagerName'].agg(ManagerName = 'nunique')\n",
    "temp4"
   ]
  },
  {
   "cell_type": "markdown",
   "id": "9TTVluaH66hT",
   "metadata": {
    "id": "9TTVluaH66hT"
   },
   "source": [
    "5. What is Termination Ratio by Gender?.\n",
    "Hints: use value_counts(normalize=True).<br>\n",
    "Expected Output as below.<br>\n",
    "(5 Points)"
   ]
  },
  {
   "cell_type": "code",
   "execution_count": 9,
   "id": "2ce31d8f",
   "metadata": {
    "colab": {
     "base_uri": "https://localhost:8080/"
    },
    "id": "2ce31d8f",
    "outputId": "727e019f-2efa-4d6c-e02c-74211a2789b2"
   },
   "outputs": [
    {
     "data": {
      "text/plain": [
       "Sex  Termd\n",
       "F    0        0.659091\n",
       "     1        0.340909\n",
       "M    0        0.674074\n",
       "     1        0.325926\n",
       "Name: Termd, dtype: float64"
      ]
     },
     "execution_count": 9,
     "metadata": {},
     "output_type": "execute_result"
    }
   ],
   "source": [
    "#code here\n",
    "temp5 = data.groupby('Sex')['Termd'].value_counts(normalize = True)\n",
    "temp5"
   ]
  },
  {
   "cell_type": "markdown",
   "id": "4fade074",
   "metadata": {
    "id": "4fade074"
   },
   "source": [
    "# Create an EDA and Data Visualization Question"
   ]
  },
  {
   "cell_type": "code",
   "execution_count": 10,
   "id": "daa0e28f",
   "metadata": {
    "colab": {
     "base_uri": "https://localhost:8080/",
     "height": 497
    },
    "id": "daa0e28f",
    "outputId": "b393293f-d78e-44fb-d0d6-ff4b1661c902"
   },
   "outputs": [
    {
     "data": {
      "image/png": "[encoded data removed]",
      "text/plain": [
       "<Figure size 864x576 with 1 Axes>"
      ]
     },
     "metadata": {
      "needs_background": "light"
     },
     "output_type": "display_data"
    }
   ],
   "source": [
    "#Sample Visualization, the example is not counted for the final score :p\n",
    "#Create 5 visualization for better understanding on data\n",
    "from matplotlib import pyplot as plt\n",
    "import seaborn as sns\n",
    "\n",
    "#Ratio termination by Gender\n",
    "\n",
    "#Step1, get the data\n",
    "\n",
    "term = data.groupby(by=['Sex'])\\\n",
    "                        .agg(total_termination=('Termd','sum')).reset_index()\\\n",
    "\n",
    "#Step2, Plot it\n",
    "f, ax = plt.subplots(1, 1, figsize=(12, 8))\n",
    "ax = sns.barplot(x='Sex', y='total_termination', hue='Sex', data=term, palette='cool')"
   ]
  },
  {
   "cell_type": "markdown",
   "id": "vHAMceOD7n04",
   "metadata": {
    "id": "vHAMceOD7n04"
   },
   "source": [
    "6. Buatlah Scatter plot antara kolom \"Salary\" dengan \"EngagementSurvey\", beri warna berbeda sesuai dengan status di \"Termd\"<br>\n",
    "(5 points)<br>\n",
    "*bentuk output di bawah hanya contoh*"
   ]
  },
  {
   "cell_type": "code",
   "execution_count": 11,
   "id": "a9b0ef0e",
   "metadata": {
    "colab": {
     "base_uri": "https://localhost:8080/",
     "height": 279
    },
    "id": "a9b0ef0e",
    "outputId": "3fb2b024-1b29-433c-a206-9cdd5d6ab6ed"
   },
   "outputs": [
    {
     "data": {
      "image/png": "[encoded data removed]",
      "text/plain": [
       "<Figure size 432x288 with 1 Axes>"
      ]
     },
     "metadata": {
      "needs_background": "light"
     },
     "output_type": "display_data"
    }
   ],
   "source": [
    "#code here\n",
    "sns.scatterplot(data = data,\n",
    "                x = 'Salary',\n",
    "                y = 'EngagementSurvey',\n",
    "                hue = 'Termd')\n",
    "plt.show()\n",
    "\n",
    "# references\n",
    "# 1: https://seaborn.pydata.org/generated/seaborn.scatterplot.html"
   ]
  },
  {
   "cell_type": "markdown",
   "id": "pqrW4OyT7wFQ",
   "metadata": {
    "id": "pqrW4OyT7wFQ"
   },
   "source": [
    "7. Buatlah visualisasi barchart untuk menghitung jumlah \"termination of an employee's\" berdasarkan department.<br>\n",
    "(5 points)<br>\n",
    "*bentuk output di bawah hanya contoh*"
   ]
  },
  {
   "cell_type": "code",
   "execution_count": 12,
   "id": "58466513",
   "metadata": {},
   "outputs": [
    {
     "data": {
      "image/png": "[encoded data removed]",
      "text/plain": [
       "<Figure size 432x288 with 1 Axes>"
      ]
     },
     "metadata": {
      "needs_background": "light"
     },
     "output_type": "display_data"
    }
   ],
   "source": [
    "# code here\n",
    "# filter the data\n",
    "temp7 = data[data['Termd'] == 1]\n",
    "temp7 = temp7[temp7['EmploymentStatus'] == 'Voluntarily Terminated']\n",
    "\n",
    "# show the plot\n",
    "sns.barplot(x = temp7['Department'].value_counts().sort_values(ascending = False),\n",
    "            y = temp7['Department'].value_counts().sort_values(ascending = False).keys(),\n",
    "            orient = 'h')\n",
    "plt.xlabel('Number of Termination')\n",
    "plt.show()\n",
    "\n",
    "# References\n",
    "# 1: https://seaborn.pydata.org/generated/seaborn.barplot.html"
   ]
  },
  {
   "cell_type": "markdown",
   "id": "MdaWkvVe72Dv",
   "metadata": {
    "id": "MdaWkvVe72Dv"
   },
   "source": [
    "8. Buatlah visualisasi Pie Chart untuk melihat persentasi jumlah karyawan yang \"terminated\" berdasarkan kolom \"Position\".<br>\n",
    "(5 points)<br>\n",
    "*bentuk output di bawah hanya contoh*"
   ]
  },
  {
   "cell_type": "code",
   "execution_count": 13,
   "id": "939ac701",
   "metadata": {
    "colab": {
     "base_uri": "https://localhost:8080/",
     "height": 248
    },
    "id": "939ac701",
    "outputId": "4da06ae4-8edc-4a78-f9cf-b5220fa35ea2"
   },
   "outputs": [
    {
     "data": {
      "image/png": "[encoded data removed]",
      "text/plain": [
       "<Figure size 432x288 with 1 Axes>"
      ]
     },
     "metadata": {},
     "output_type": "display_data"
    }
   ],
   "source": [
    "# code here\n",
    "# use temp7 for the filtered data\n",
    "position = temp7['Position'].value_counts().sort_values(ascending = False).keys()\n",
    "count = np.array(temp7['Position'].value_counts())\n",
    "\n",
    "# show top 5 position to be plotted and change the rest to 'others'\n",
    "position = list(position[:5])\n",
    "position.append('Other')\n",
    "temp8 = count[5:].sum()\n",
    "count = list(count[:5])\n",
    "count.append(temp8)\n",
    "\n",
    "# plot the data\n",
    "plt.pie(count,\n",
    "        labels = position,\n",
    "        autopct='%1.1f%%')\n",
    "plt.show()"
   ]
  },
  {
   "cell_type": "markdown",
   "id": "AschtdqKfLTb",
   "metadata": {
    "id": "AschtdqKfLTb"
   },
   "source": [
    "9. Buat Boxplot yang menggambarkan Salary berdasarkan Marital Desc, bedakan berdasarkan Termd\n",
    "(5 points)"
   ]
  },
  {
   "cell_type": "code",
   "execution_count": 14,
   "id": "016b5f91",
   "metadata": {},
   "outputs": [
    {
     "data": {
      "image/png": "[encoded data removed]",
      "text/plain": [
       "<Figure size 432x288 with 1 Axes>"
      ]
     },
     "metadata": {
      "needs_background": "light"
     },
     "output_type": "display_data"
    }
   ],
   "source": [
    "# code here\n",
    "sns.boxplot(data = data,\n",
    "            x = 'Salary',\n",
    "            y = 'MaritalDesc',\n",
    "            hue = 'Termd')\n",
    "plt.show()"
   ]
  },
  {
   "cell_type": "markdown",
   "id": "E247wUTcfSPb",
   "metadata": {
    "id": "E247wUTcfSPb"
   },
   "source": [
    "10. Tampilkan pairplot antara kolom 'Salary', 'EngagementSurvey', 'EmpSatisfaction','Absences'\n",
    "beri kategori warna berdasarkan 'Termd'<br>\n",
    "(5points)"
   ]
  },
  {
   "cell_type": "code",
   "execution_count": 15,
   "id": "8ffa55ce",
   "metadata": {},
   "outputs": [
    {
     "data": {
      "image/png": "[encoded data removed]",
      "text/plain": [
       "<Figure size 762.375x720 with 20 Axes>"
      ]
     },
     "metadata": {
      "needs_background": "light"
     },
     "output_type": "display_data"
    }
   ],
   "source": [
    "# code here\n",
    "sns.pairplot(data = data[['Salary',\n",
    "                          'EngagementSurvey',\n",
    "                          'EmpSatisfaction',\n",
    "                          'Absences',\n",
    "                          'Termd']],\n",
    "             hue = 'Termd')\n",
    "plt.show()"
   ]
  },
  {
   "cell_type": "markdown",
   "id": "d00651a1",
   "metadata": {
    "id": "d00651a1"
   },
   "source": [
    "# Create Machine Learning Model to Predict Termd and Question"
   ]
  },
  {
   "cell_type": "code",
   "execution_count": 16,
   "id": "bvTGDvSFiu0B",
   "metadata": {
    "colab": {
     "base_uri": "https://localhost:8080/",
     "height": 423
    },
    "id": "bvTGDvSFiu0B",
    "outputId": "4d25f3f8-c6a8-4d0c-edc2-2cc6d0caf2d4"
   },
   "outputs": [
    {
     "data": {
      "text/html": [
       "<div>\n",
       "<style scoped>\n",
       "    .dataframe tbody tr th:only-of-type {\n",
       "        vertical-align: middle;\n",
       "    }\n",
       "\n",
       "    .dataframe tbody tr th {\n",
       "        vertical-align: top;\n",
       "    }\n",
       "\n",
       "    .dataframe thead th {\n",
       "        text-align: right;\n",
       "    }\n",
       "</style>\n",
       "<table border=\"1\" class=\"dataframe\">\n",
       "  <thead>\n",
       "    <tr style=\"text-align: right;\">\n",
       "      <th></th>\n",
       "      <th>DOB</th>\n",
       "      <th>DOB_date</th>\n",
       "      <th>Age</th>\n",
       "    </tr>\n",
       "  </thead>\n",
       "  <tbody>\n",
       "    <tr>\n",
       "      <th>0</th>\n",
       "      <td>07/10/83</td>\n",
       "      <td>1983-07-10</td>\n",
       "      <td>39</td>\n",
       "    </tr>\n",
       "    <tr>\n",
       "      <th>1</th>\n",
       "      <td>05/05/75</td>\n",
       "      <td>1975-05-05</td>\n",
       "      <td>47</td>\n",
       "    </tr>\n",
       "    <tr>\n",
       "      <th>2</th>\n",
       "      <td>09/19/88</td>\n",
       "      <td>1988-09-19</td>\n",
       "      <td>34</td>\n",
       "    </tr>\n",
       "    <tr>\n",
       "      <th>3</th>\n",
       "      <td>09/27/88</td>\n",
       "      <td>1988-09-27</td>\n",
       "      <td>34</td>\n",
       "    </tr>\n",
       "    <tr>\n",
       "      <th>4</th>\n",
       "      <td>09/08/89</td>\n",
       "      <td>1989-09-08</td>\n",
       "      <td>33</td>\n",
       "    </tr>\n",
       "    <tr>\n",
       "      <th>...</th>\n",
       "      <td>...</td>\n",
       "      <td>...</td>\n",
       "      <td>...</td>\n",
       "    </tr>\n",
       "    <tr>\n",
       "      <th>306</th>\n",
       "      <td>05/11/85</td>\n",
       "      <td>1985-05-11</td>\n",
       "      <td>37</td>\n",
       "    </tr>\n",
       "    <tr>\n",
       "      <th>307</th>\n",
       "      <td>05/04/82</td>\n",
       "      <td>1982-05-04</td>\n",
       "      <td>40</td>\n",
       "    </tr>\n",
       "    <tr>\n",
       "      <th>308</th>\n",
       "      <td>08/30/79</td>\n",
       "      <td>1979-08-30</td>\n",
       "      <td>43</td>\n",
       "    </tr>\n",
       "    <tr>\n",
       "      <th>309</th>\n",
       "      <td>02/24/79</td>\n",
       "      <td>1979-02-24</td>\n",
       "      <td>43</td>\n",
       "    </tr>\n",
       "    <tr>\n",
       "      <th>310</th>\n",
       "      <td>08/17/78</td>\n",
       "      <td>1978-08-17</td>\n",
       "      <td>44</td>\n",
       "    </tr>\n",
       "  </tbody>\n",
       "</table>\n",
       "<p>311 rows × 3 columns</p>\n",
       "</div>"
      ],
      "text/plain": [
       "          DOB   DOB_date  Age\n",
       "0    07/10/83 1983-07-10   39\n",
       "1    05/05/75 1975-05-05   47\n",
       "2    09/19/88 1988-09-19   34\n",
       "3    09/27/88 1988-09-27   34\n",
       "4    09/08/89 1989-09-08   33\n",
       "..        ...        ...  ...\n",
       "306  05/11/85 1985-05-11   37\n",
       "307  05/04/82 1982-05-04   40\n",
       "308  08/30/79 1979-08-30   43\n",
       "309  02/24/79 1979-02-24   43\n",
       "310  08/17/78 1978-08-17   44\n",
       "\n",
       "[311 rows x 3 columns]"
      ]
     },
     "execution_count": 16,
     "metadata": {},
     "output_type": "execute_result"
    }
   ],
   "source": [
    "#11. Buat fitur baru (kolom baru) berupa \"Age\" dalam satuan tahun. Untuk mendapatkannya, ambil data pada kolom DOB dikurangi dengan 2022\n",
    "#(5 points)\n",
    "# code here\n",
    "temp11 = data['DOB'].copy()\n",
    "temp11 = pd.DataFrame(temp11)\n",
    "temp11['DOB_date'] = pd.to_datetime(temp11['DOB'])\n",
    "temp11['Age'] = 2022 - temp11['DOB_date'].dt.year\n",
    "temp11\n",
    "\n",
    "# references\n",
    "# 1: https://sparkbyexamples.com/pandas/pandas-convert-datetime-to-string-format/\n",
    "# 2: https://sparkbyexamples.com/pandas/pandas-extract-year-from-datetime/"
   ]
  },
  {
   "cell_type": "code",
   "execution_count": 17,
   "id": "0b6295MtlSjx",
   "metadata": {
    "colab": {
     "base_uri": "https://localhost:8080/",
     "height": 423
    },
    "id": "0b6295MtlSjx",
    "outputId": "aa6d2ee7-d132-4ea1-86f1-41c776b96feb"
   },
   "outputs": [
    {
     "data": {
      "text/html": [
       "<div>\n",
       "<style scoped>\n",
       "    .dataframe tbody tr th:only-of-type {\n",
       "        vertical-align: middle;\n",
       "    }\n",
       "\n",
       "    .dataframe tbody tr th {\n",
       "        vertical-align: top;\n",
       "    }\n",
       "\n",
       "    .dataframe thead th {\n",
       "        text-align: right;\n",
       "    }\n",
       "</style>\n",
       "<table border=\"1\" class=\"dataframe\">\n",
       "  <thead>\n",
       "    <tr style=\"text-align: right;\">\n",
       "      <th></th>\n",
       "      <th>Salary</th>\n",
       "      <th>Salary_minmax</th>\n",
       "    </tr>\n",
       "  </thead>\n",
       "  <tbody>\n",
       "    <tr>\n",
       "      <th>0</th>\n",
       "      <td>62506</td>\n",
       "      <td>0.085190</td>\n",
       "    </tr>\n",
       "    <tr>\n",
       "      <th>1</th>\n",
       "      <td>104437</td>\n",
       "      <td>0.289777</td>\n",
       "    </tr>\n",
       "    <tr>\n",
       "      <th>2</th>\n",
       "      <td>64955</td>\n",
       "      <td>0.097139</td>\n",
       "    </tr>\n",
       "    <tr>\n",
       "      <th>3</th>\n",
       "      <td>64991</td>\n",
       "      <td>0.097315</td>\n",
       "    </tr>\n",
       "    <tr>\n",
       "      <th>4</th>\n",
       "      <td>50825</td>\n",
       "      <td>0.028197</td>\n",
       "    </tr>\n",
       "    <tr>\n",
       "      <th>...</th>\n",
       "      <td>...</td>\n",
       "      <td>...</td>\n",
       "    </tr>\n",
       "    <tr>\n",
       "      <th>306</th>\n",
       "      <td>65893</td>\n",
       "      <td>0.101716</td>\n",
       "    </tr>\n",
       "    <tr>\n",
       "      <th>307</th>\n",
       "      <td>48513</td>\n",
       "      <td>0.016916</td>\n",
       "    </tr>\n",
       "    <tr>\n",
       "      <th>308</th>\n",
       "      <td>220450</td>\n",
       "      <td>0.855821</td>\n",
       "    </tr>\n",
       "    <tr>\n",
       "      <th>309</th>\n",
       "      <td>89292</td>\n",
       "      <td>0.215883</td>\n",
       "    </tr>\n",
       "    <tr>\n",
       "      <th>310</th>\n",
       "      <td>45046</td>\n",
       "      <td>0.000000</td>\n",
       "    </tr>\n",
       "  </tbody>\n",
       "</table>\n",
       "<p>311 rows × 2 columns</p>\n",
       "</div>"
      ],
      "text/plain": [
       "     Salary  Salary_minmax\n",
       "0     62506       0.085190\n",
       "1    104437       0.289777\n",
       "2     64955       0.097139\n",
       "3     64991       0.097315\n",
       "4     50825       0.028197\n",
       "..      ...            ...\n",
       "306   65893       0.101716\n",
       "307   48513       0.016916\n",
       "308  220450       0.855821\n",
       "309   89292       0.215883\n",
       "310   45046       0.000000\n",
       "\n",
       "[311 rows x 2 columns]"
      ]
     },
     "execution_count": 17,
     "metadata": {},
     "output_type": "execute_result"
    }
   ],
   "source": [
    "#12. Lakukan MinMaxScaler dari fitur \"Salary\"\n",
    "# (5 points)\n",
    "# code here\n",
    "from sklearn.preprocessing import MinMaxScaler\n",
    "\n",
    "temp12 = data['Salary'].copy()\n",
    "temp12 = pd.DataFrame(temp12)\n",
    "scaler = MinMaxScaler()\n",
    "temp12_minmax = scaler.fit_transform(temp12)\n",
    "temp12['Salary_minmax'] = temp12_minmax\n",
    "\n",
    "temp12"
   ]
  },
  {
   "cell_type": "code",
   "execution_count": 18,
   "id": "TC13SM_wpdzy",
   "metadata": {
    "colab": {
     "base_uri": "https://localhost:8080/"
    },
    "id": "TC13SM_wpdzy",
    "outputId": "403420c6-1956-4c3a-fabe-3eb383fbbac4"
   },
   "outputs": [
    {
     "name": "stdout",
     "output_type": "stream",
     "text": [
      "<class 'pandas.core.frame.DataFrame'>\n",
      "RangeIndex: 311 entries, 0 to 310\n",
      "Data columns (total 36 columns):\n",
      " #   Column                      Non-Null Count  Dtype  \n",
      "---  ------                      --------------  -----  \n",
      " 0   Employee_Name               311 non-null    object \n",
      " 1   EmpID                       311 non-null    int64  \n",
      " 2   MarriedID                   311 non-null    int64  \n",
      " 3   MaritalStatusID             311 non-null    int64  \n",
      " 4   GenderID                    311 non-null    int64  \n",
      " 5   EmpStatusID                 311 non-null    int64  \n",
      " 6   DeptID                      311 non-null    int64  \n",
      " 7   PerfScoreID                 311 non-null    int64  \n",
      " 8   FromDiversityJobFairID      311 non-null    int64  \n",
      " 9   Salary                      311 non-null    int64  \n",
      " 10  Termd                       311 non-null    int64  \n",
      " 11  PositionID                  311 non-null    int64  \n",
      " 12  Position                    311 non-null    object \n",
      " 13  State                       311 non-null    object \n",
      " 14  Zip                         311 non-null    int64  \n",
      " 15  DOB                         311 non-null    object \n",
      " 16  Sex                         311 non-null    object \n",
      " 17  MaritalDesc                 311 non-null    object \n",
      " 18  CitizenDesc                 311 non-null    object \n",
      " 19  HispanicLatino              311 non-null    object \n",
      " 20  RaceDesc                    311 non-null    object \n",
      " 21  DateofHire                  311 non-null    object \n",
      " 22  DateofTermination           104 non-null    object \n",
      " 23  TermReason                  311 non-null    object \n",
      " 24  EmploymentStatus            311 non-null    object \n",
      " 25  Department                  311 non-null    object \n",
      " 26  ManagerName                 311 non-null    object \n",
      " 27  ManagerID                   303 non-null    float64\n",
      " 28  RecruitmentSource           311 non-null    object \n",
      " 29  PerformanceScore            311 non-null    object \n",
      " 30  EngagementSurvey            311 non-null    float64\n",
      " 31  EmpSatisfaction             311 non-null    int64  \n",
      " 32  SpecialProjectsCount        311 non-null    int64  \n",
      " 33  LastPerformanceReview_Date  311 non-null    object \n",
      " 34  DaysLateLast30              311 non-null    int64  \n",
      " 35  Absences                    311 non-null    int64  \n",
      "dtypes: float64(2), int64(16), object(18)\n",
      "memory usage: 87.6+ KB\n"
     ]
    }
   ],
   "source": [
    "#13. Ubahlah semua tipe data object menjadi category\n",
    "# 5 point\n",
    "# code here\n",
    "data.info()"
   ]
  },
  {
   "cell_type": "code",
   "execution_count": 19,
   "id": "ad1d7fa0",
   "metadata": {},
   "outputs": [
    {
     "name": "stdout",
     "output_type": "stream",
     "text": [
      "<class 'pandas.core.frame.DataFrame'>\n",
      "RangeIndex: 311 entries, 0 to 310\n",
      "Data columns (total 36 columns):\n",
      " #   Column                      Non-Null Count  Dtype   \n",
      "---  ------                      --------------  -----   \n",
      " 0   Employee_Name               311 non-null    category\n",
      " 1   EmpID                       311 non-null    int64   \n",
      " 2   MarriedID                   311 non-null    int64   \n",
      " 3   MaritalStatusID             311 non-null    int64   \n",
      " 4   GenderID                    311 non-null    int64   \n",
      " 5   EmpStatusID                 311 non-null    int64   \n",
      " 6   DeptID                      311 non-null    int64   \n",
      " 7   PerfScoreID                 311 non-null    int64   \n",
      " 8   FromDiversityJobFairID      311 non-null    int64   \n",
      " 9   Salary                      311 non-null    int64   \n",
      " 10  Termd                       311 non-null    int64   \n",
      " 11  PositionID                  311 non-null    int64   \n",
      " 12  Position                    311 non-null    category\n",
      " 13  State                       311 non-null    category\n",
      " 14  Zip                         311 non-null    int64   \n",
      " 15  DOB                         311 non-null    category\n",
      " 16  Sex                         311 non-null    category\n",
      " 17  MaritalDesc                 311 non-null    category\n",
      " 18  CitizenDesc                 311 non-null    category\n",
      " 19  HispanicLatino              311 non-null    category\n",
      " 20  RaceDesc                    311 non-null    category\n",
      " 21  DateofHire                  311 non-null    category\n",
      " 22  DateofTermination           104 non-null    category\n",
      " 23  TermReason                  311 non-null    category\n",
      " 24  EmploymentStatus            311 non-null    category\n",
      " 25  Department                  311 non-null    category\n",
      " 26  ManagerName                 311 non-null    category\n",
      " 27  ManagerID                   303 non-null    float64 \n",
      " 28  RecruitmentSource           311 non-null    category\n",
      " 29  PerformanceScore            311 non-null    category\n",
      " 30  EngagementSurvey            311 non-null    float64 \n",
      " 31  EmpSatisfaction             311 non-null    int64   \n",
      " 32  SpecialProjectsCount        311 non-null    int64   \n",
      " 33  LastPerformanceReview_Date  311 non-null    category\n",
      " 34  DaysLateLast30              311 non-null    int64   \n",
      " 35  Absences                    311 non-null    int64   \n",
      "dtypes: category(18), float64(2), int64(16)\n",
      "memory usage: 89.8 KB\n"
     ]
    }
   ],
   "source": [
    "#Setelah diubah category\n",
    "# code here\n",
    "for i in data.columns:\n",
    "    if data[i].dtype == object:\n",
    "        data[i] = data[i].astype('category')\n",
    "data.info()\n",
    "\n",
    "# references:\n",
    "# 1: https://stackoverflow.com/questions/37561991/what-is-dtypeo-in-pandas\n",
    "# 2: https://stackoverflow.com/questions/28910851/python-pandas-changing-some-column-types-to-categories"
   ]
  },
  {
   "cell_type": "code",
   "execution_count": 20,
   "id": "kgcComTEqBd7",
   "metadata": {
    "colab": {
     "base_uri": "https://localhost:8080/"
    },
    "id": "kgcComTEqBd7",
    "outputId": "ee765106-8b41-4b93-9e65-5a7460ac8744"
   },
   "outputs": [],
   "source": [
    "#14. Ubahlah \"RecruitmentSource\" dengan menggunakan Label Encoder\n",
    "# 5 point\n",
    "\n",
    "#15. Ubahlah \"PerformanceScore\" dengan menggunakan Label Encoder\n",
    "# 5 point\n",
    "# code here\n",
    "from sklearn.preprocessing import LabelEncoder\n",
    "laben1 = LabelEncoder()\n",
    "laben2 = LabelEncoder()"
   ]
  },
  {
   "cell_type": "code",
   "execution_count": 21,
   "id": "2564c592",
   "metadata": {},
   "outputs": [
    {
     "data": {
      "text/html": [
       "<div>\n",
       "<style scoped>\n",
       "    .dataframe tbody tr th:only-of-type {\n",
       "        vertical-align: middle;\n",
       "    }\n",
       "\n",
       "    .dataframe tbody tr th {\n",
       "        vertical-align: top;\n",
       "    }\n",
       "\n",
       "    .dataframe thead th {\n",
       "        text-align: right;\n",
       "    }\n",
       "</style>\n",
       "<table border=\"1\" class=\"dataframe\">\n",
       "  <thead>\n",
       "    <tr style=\"text-align: right;\">\n",
       "      <th></th>\n",
       "      <th>RecruitmentSource</th>\n",
       "      <th>PerformanceScore</th>\n",
       "    </tr>\n",
       "  </thead>\n",
       "  <tbody>\n",
       "    <tr>\n",
       "      <th>0</th>\n",
       "      <td>5</td>\n",
       "      <td>0</td>\n",
       "    </tr>\n",
       "    <tr>\n",
       "      <th>1</th>\n",
       "      <td>4</td>\n",
       "      <td>1</td>\n",
       "    </tr>\n",
       "    <tr>\n",
       "      <th>2</th>\n",
       "      <td>5</td>\n",
       "      <td>1</td>\n",
       "    </tr>\n",
       "    <tr>\n",
       "      <th>3</th>\n",
       "      <td>4</td>\n",
       "      <td>1</td>\n",
       "    </tr>\n",
       "    <tr>\n",
       "      <th>4</th>\n",
       "      <td>3</td>\n",
       "      <td>1</td>\n",
       "    </tr>\n",
       "  </tbody>\n",
       "</table>\n",
       "</div>"
      ],
      "text/plain": [
       "   RecruitmentSource  PerformanceScore\n",
       "0                  5                 0\n",
       "1                  4                 1\n",
       "2                  5                 1\n",
       "3                  4                 1\n",
       "4                  3                 1"
      ]
     },
     "execution_count": 21,
     "metadata": {},
     "output_type": "execute_result"
    }
   ],
   "source": [
    "# code here\n",
    "laben1_class = data['RecruitmentSource'].value_counts().sort_values(ascending = False).keys()\n",
    "laben2_class = data['PerformanceScore'].value_counts().sort_values(ascending = False).keys()\n",
    "\n",
    "data['RecruitmentSource'] = laben1.fit_transform(data['RecruitmentSource'])\n",
    "data['PerformanceScore'] = laben2.fit_transform(data['PerformanceScore'])\n",
    "data[['RecruitmentSource', 'PerformanceScore']].head()\n",
    "\n",
    "# references\n",
    "# 1: https://scikit-learn.org/stable/modules/generated/sklearn.preprocessing.LabelEncoder.html\n",
    "# 2: https://www.geeksforgeeks.org/ml-label-encoding-of-datasets-in-python/"
   ]
  },
  {
   "cell_type": "code",
   "execution_count": 22,
   "id": "e3ce2e93",
   "metadata": {
    "colab": {
     "base_uri": "https://localhost:8080/",
     "height": 270
    },
    "id": "e3ce2e93",
    "outputId": "880a3924-9499-4158-b742-de307efaed20"
   },
   "outputs": [],
   "source": [
    "#16. Pisahkan dependent variable dan independent variable\n",
    "# 5 point\n",
    "# code here\n",
    "data['Age'] = 2022 - temp11['DOB_date'].dt.year\n",
    "data['Salary_minmax'] = temp12_minmax\n",
    "\n",
    "#Dependent Varible (target)\n",
    "x = data[[\n",
    "    'MarriedID', 'MaritalStatusID', 'GenderID', 'DeptID', 'PerfScoreID',\n",
    "    'PositionID', 'Age', 'RecruitmentSource', 'PerformanceScore', 'Salary_minmax',\n",
    "    'Absences', 'SpecialProjectsCount', 'EmpSatisfaction', 'EngagementSurvey'\n",
    "]]\n",
    "\n",
    "#Independent Variable (feature)\n",
    "y = data['Termd']"
   ]
  },
  {
   "cell_type": "code",
   "execution_count": 23,
   "id": "0b637b05",
   "metadata": {
    "id": "0b637b05"
   },
   "outputs": [],
   "source": [
    "#17. Bagi data menjadi Train-Test sebesar 80:20\n",
    "# (5 points)\n",
    "from sklearn.model_selection import train_test_split\n",
    "from sklearn.metrics import (accuracy_score, precision_recall_curve,\n",
    "                             roc_curve, precision_score, recall_score)\n",
    "\n",
    "# do the train-test split\n",
    "x_train, x_test, y_train, y_test = train_test_split(x,\n",
    "                                                    y,\n",
    "                                                    test_size = 0.2,\n",
    "                                                    random_state = 42,\n",
    "                                                    # put some stratify technique\n",
    "                                                    stratify = y\n",
    "                                                    )"
   ]
  },
  {
   "cell_type": "code",
   "execution_count": 24,
   "id": "VdITcNUmrdwp",
   "metadata": {
    "colab": {
     "base_uri": "https://localhost:8080/"
    },
    "id": "VdITcNUmrdwp",
    "outputId": "6aefbed0-1653-4119-ade3-a6b5c49e72cf"
   },
   "outputs": [],
   "source": [
    "#18. Lakukan pemodelan machine learning (metode klasifikasi bebas) untuk bisa memprediksi status \"Termd\". Lakukan evaluasi hasil dengan menampilkan\n",
    "# score klasifikasi, precision dan recall.\n",
    "# Gunakan model yang menurut kalian terbaik\n",
    "# (5 points)\n",
    "# code here\n",
    "from sklearn.neighbors import KNeighborsClassifier\n",
    "from sklearn.tree import DecisionTreeClassifier\n",
    "from sklearn.ensemble import GradientBoostingClassifier"
   ]
  },
  {
   "cell_type": "code",
   "execution_count": 25,
   "id": "8841f93b",
   "metadata": {},
   "outputs": [],
   "source": [
    "# define the variables for the classifier\n",
    "knn = KNeighborsClassifier(n_neighbors = 5)\n",
    "dt = DecisionTreeClassifier(max_depth = 8)\n",
    "gbc = GradientBoostingClassifier(max_depth = 8, n_estimators = 10)\n",
    "classifier = (knn, dt, gbc)\n",
    "classifier_name = ('K-Nearest Neighbor', 'Decision Tree', 'Gradient Boosting')\n",
    "pred = []\n",
    "acc = []\n",
    "prec = []\n",
    "rec = []\n",
    "\n",
    "# train the model and save the result\n",
    "for i in classifier:\n",
    "    i.fit(x_train, y_train)\n",
    "    pred.append(i.predict(x_test))\n",
    "    \n",
    "    acc.append(accuracy_score(y_test, pred[-1]))\n",
    "    prec.append(precision_score(y_test, pred[-1]))\n",
    "    rec.append(recall_score(y_test, pred[-1]))"
   ]
  },
  {
   "cell_type": "code",
   "execution_count": 26,
   "id": "2d2235e9",
   "metadata": {},
   "outputs": [
    {
     "name": "stdout",
     "output_type": "stream",
     "text": [
      "1. K-Nearest Neighbor model \n",
      "Accuracy:\t 55.56%\n",
      "Precision:\t 26.67%\n",
      "Recall:\t\t 19.05%\n",
      "-------------------------\n",
      "2. Decision Tree model \n",
      "Accuracy:\t 55.56%\n",
      "Precision:\t 33.33%\n",
      "Recall:\t\t 33.33%\n",
      "-------------------------\n",
      "3. Gradient Boosting model \n",
      "Accuracy:\t 61.9%\n",
      "Precision:\t 36.36%\n",
      "Recall:\t\t 19.05%\n",
      "-------------------------\n"
     ]
    }
   ],
   "source": [
    "# print the result\n",
    "for i in range(len(classifier)):\n",
    "    print(f'{i+1}. {classifier_name[i]} model ')\n",
    "    print('Accuracy:\\t', f'{round((acc[i] * 100), 2)}%')\n",
    "    print('Precision:\\t', f'{round((prec[i] * 100), 2)}%')\n",
    "    print('Recall:\\t\\t', f'{round((rec[i] * 100), 2)}%')\n",
    "    print('-------------------------')"
   ]
  },
  {
   "cell_type": "markdown",
   "id": "be8753bd",
   "metadata": {},
   "source": [
    "It can be concluded that the Gradient Boosting model is the best to predict the termination employee because it has a better accuracy and precision rate than the other two."
   ]
  },
  {
   "cell_type": "markdown",
   "id": "158257f6",
   "metadata": {
    "id": "158257f6"
   },
   "source": [
    "# Insight (Answering the Question)\n",
    "\n",
    "19.\tIs there any relationship between who a person works for (their manager) and their performance score? (5 points)<br>\n",
    "20.\tWhat are our best recruiting sources if we want to ensure a low ratio of termination? (5 points)<br>"
   ]
  },
  {
   "cell_type": "code",
   "execution_count": 27,
   "id": "5e2e00a1",
   "metadata": {
    "scrolled": false
   },
   "outputs": [],
   "source": [
    "# code here, for question 19\n",
    "temp19 = data_ori[data_ori['PerformanceScore'] != 'PIP']\n",
    "temp19 = temp19[temp19['PerformanceScore'] != 'Needs Improvement']\n",
    "temp19b = temp19.groupby(['ManagerName',\n",
    "                          'PerformanceScore'])['Employee_Name'].agg(\n",
    "    total = 'count').sort_values(by = 'total',\n",
    "                                 ascending = False)\n",
    "# temp19b"
   ]
  },
  {
   "cell_type": "code",
   "execution_count": 28,
   "id": "9e72aace",
   "metadata": {},
   "outputs": [
    {
     "data": {
      "image/png": "[encoded data removed]",
      "text/plain": [
       "<Figure size 432x288 with 1 Axes>"
      ]
     },
     "metadata": {
      "needs_background": "light"
     },
     "output_type": "display_data"
    }
   ],
   "source": [
    "temp19b.plot(kind = 'bar')\n",
    "plt.show()"
   ]
  },
  {
   "cell_type": "markdown",
   "id": "56fab5a0",
   "metadata": {},
   "source": [
    "Insights?\n",
    "\n",
    "Implicitly, the visualization above shows that some managers can influence employee performance."
   ]
  },
  {
   "cell_type": "code",
   "execution_count": 29,
   "id": "b268c0b8",
   "metadata": {},
   "outputs": [
    {
     "name": "stderr",
     "output_type": "stream",
     "text": [
      "C:\\Users\\AreIsAndI\\AppData\\Local\\Temp\\ipykernel_12336\\2863400799.py:22: UserWarning: FixedFormatter should only be used together with FixedLocator\n",
      "  axs[0].set_xticklabels(data_ori['RecruitmentSource'].value_counts().index,\n"
     ]
    },
    {
     "data": {
      "image/png": "[encoded data removed]",
      "text/plain": [
       "<Figure size 864x432 with 2 Axes>"
      ]
     },
     "metadata": {},
     "output_type": "display_data"
    }
   ],
   "source": [
    "# code here, for question 20\n",
    "# initialize the canvar\n",
    "sns.set_style('whitegrid')\n",
    "fig, axs = plt.subplots(1, 2, figsize = (12, 6))\n",
    "\n",
    "# first approach\n",
    "recSour = data_ori['RecruitmentSource'].value_counts()\n",
    "axs[0].bar(data_ori['RecruitmentSource'].unique(), height = recSour)\n",
    "\n",
    "# second approach\n",
    "# sns.barplot(ax = axs[0],\n",
    "#             x = data_ori['RecruitmentSource'].unique(),\n",
    "#             y = data_ori['RecruitmentSource'].value_counts())\n",
    "\n",
    "# plot by hue\n",
    "sns.countplot(ax = axs[1],\n",
    "              data = data_ori,\n",
    "              x = 'RecruitmentSource',\n",
    "              hue = 'Termd',\n",
    "              order = data_ori['RecruitmentSource'].value_counts().index)\n",
    "\n",
    "axs[0].set_xticklabels(data_ori['RecruitmentSource'].value_counts().index,\n",
    "                       rotation=45)\n",
    "axs[1].set_xticklabels(data_ori['RecruitmentSource'].value_counts().index,\n",
    "                       rotation=45)\n",
    "plt.show()"
   ]
  },
  {
   "cell_type": "markdown",
   "id": "90d8bb9d",
   "metadata": {},
   "source": [
    "Insights?\n",
    "\n",
    "Google search give a higher rate of employee termination."
   ]
  },
  {
   "cell_type": "code",
   "execution_count": 30,
   "id": "d89bde4e",
   "metadata": {},
   "outputs": [],
   "source": [
    "# calculate wether the employee is terminated or not\n",
    "recruit = np.array(data_ori['RecruitmentSource'].value_counts().sort_values(ascending = False).keys())\n",
    "totalRecruit = np.array(data_ori['RecruitmentSource'].value_counts())\n",
    "isNotTerm = []\n",
    "isTerm = []\n",
    "\n",
    "for i in range(len(recruit)):\n",
    "    for j in range(2):\n",
    "        temp20 = data_ori[data_ori['RecruitmentSource'] == recruit[i]][['RecruitmentSource', 'Termd']]\n",
    "        temp20 = temp20[temp20['Termd'] == j]\n",
    "        \n",
    "        if j == 0:\n",
    "            isNotTerm.append(temp20.count()[0])\n",
    "        elif j == 1:\n",
    "            isTerm.append(temp20.count()[0])"
   ]
  },
  {
   "cell_type": "code",
   "execution_count": 31,
   "id": "ceb35705",
   "metadata": {},
   "outputs": [],
   "source": [
    "# calculate the termination rate\n",
    "# the formula will be: number of termination / total recruitment by sources\n",
    "termRate = []\n",
    "\n",
    "for i in range(len(recruit)):\n",
    "    temp20b = isTerm[i] / totalRecruit[i]\n",
    "    temp20b *= 100\n",
    "    termRate.append(round(temp20b, 2))"
   ]
  },
  {
   "cell_type": "code",
   "execution_count": 32,
   "id": "cf32c375",
   "metadata": {},
   "outputs": [
    {
     "data": {
      "text/html": [
       "<div>\n",
       "<style scoped>\n",
       "    .dataframe tbody tr th:only-of-type {\n",
       "        vertical-align: middle;\n",
       "    }\n",
       "\n",
       "    .dataframe tbody tr th {\n",
       "        vertical-align: top;\n",
       "    }\n",
       "\n",
       "    .dataframe thead th {\n",
       "        text-align: right;\n",
       "    }\n",
       "</style>\n",
       "<table border=\"1\" class=\"dataframe\">\n",
       "  <thead>\n",
       "    <tr style=\"text-align: right;\">\n",
       "      <th></th>\n",
       "      <th>RecruitmentSource</th>\n",
       "      <th>TermRate (in %)</th>\n",
       "    </tr>\n",
       "  </thead>\n",
       "  <tbody>\n",
       "    <tr>\n",
       "      <th>6</th>\n",
       "      <td>Website</td>\n",
       "      <td>7.69</td>\n",
       "    </tr>\n",
       "    <tr>\n",
       "      <th>3</th>\n",
       "      <td>Employee Referral</td>\n",
       "      <td>16.13</td>\n",
       "    </tr>\n",
       "    <tr>\n",
       "      <th>1</th>\n",
       "      <td>LinkedIn</td>\n",
       "      <td>23.68</td>\n",
       "    </tr>\n",
       "    <tr>\n",
       "      <th>0</th>\n",
       "      <td>Indeed</td>\n",
       "      <td>24.14</td>\n",
       "    </tr>\n",
       "    <tr>\n",
       "      <th>5</th>\n",
       "      <td>CareerBuilder</td>\n",
       "      <td>47.83</td>\n",
       "    </tr>\n",
       "    <tr>\n",
       "      <th>7</th>\n",
       "      <td>Other</td>\n",
       "      <td>50.00</td>\n",
       "    </tr>\n",
       "    <tr>\n",
       "      <th>4</th>\n",
       "      <td>Diversity Job Fair</td>\n",
       "      <td>55.17</td>\n",
       "    </tr>\n",
       "    <tr>\n",
       "      <th>2</th>\n",
       "      <td>Google Search</td>\n",
       "      <td>61.22</td>\n",
       "    </tr>\n",
       "    <tr>\n",
       "      <th>8</th>\n",
       "      <td>On-line Web application</td>\n",
       "      <td>100.00</td>\n",
       "    </tr>\n",
       "  </tbody>\n",
       "</table>\n",
       "</div>"
      ],
      "text/plain": [
       "         RecruitmentSource  TermRate (in %)\n",
       "6                  Website             7.69\n",
       "3        Employee Referral            16.13\n",
       "1                 LinkedIn            23.68\n",
       "0                   Indeed            24.14\n",
       "5            CareerBuilder            47.83\n",
       "7                    Other            50.00\n",
       "4       Diversity Job Fair            55.17\n",
       "2            Google Search            61.22\n",
       "8  On-line Web application           100.00"
      ]
     },
     "execution_count": 32,
     "metadata": {},
     "output_type": "execute_result"
    }
   ],
   "source": [
    "dfTermRate = pd.DataFrame({'RecruitmentSource': recruit,\n",
    "                           'TermRate (in %)': termRate})\n",
    "dfTermRate.sort_values(by = 'TermRate (in %)')"
   ]
  },
  {
   "cell_type": "markdown",
   "id": "004ab183",
   "metadata": {},
   "source": [
    "Insights?\n",
    "\n",
    "Website is a recruitment source with the lowest termination of rate."
   ]
  }
 ],
 "metadata": {
  "colab": {
   "collapsed_sections": [
    "158257f6"
   ],
   "provenance": []
  },
  "kernelspec": {
   "display_name": "Python 3 (ipykernel)",
   "language": "python",
   "name": "python3"
  },
  "language_info": {
   "codemirror_mode": {
    "name": "ipython",
    "version": 3
   },
   "file_extension": ".py",
   "mimetype": "text/x-python",
   "name": "python",
   "nbconvert_exporter": "python",
   "pygments_lexer": "ipython3",
   "version": "3.9.12"
  }
 },
 "nbformat": 4,
 "nbformat_minor": 5
}
